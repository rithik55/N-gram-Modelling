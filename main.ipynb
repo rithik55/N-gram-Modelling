{
  "cells": [
    {
      "cell_type": "code",
      "execution_count": 3,
      "metadata": {
        "colab": {
          "base_uri": "https://localhost:8080/"
        },
        "id": "bkk2PdrF9ghd",
        "outputId": "9a777f63-cffa-4b96-f5e7-8202613328f7",
        "scrolled": false
      },
      "outputs": [
        {
          "name": "stderr",
          "output_type": "stream",
          "text": [
            "[nltk_data] Downloading package brown to /root/nltk_data...\n",
            "[nltk_data]   Unzipping corpora/brown.zip.\n"
          ]
        },
        {
          "data": {
            "text/plain": [
              "True"
            ]
          },
          "execution_count": 3,
          "metadata": {},
          "output_type": "execute_result"
        }
      ],
      "source": [
        "import math\n",
        "import numpy as np\n",
        "from numpy.random import shuffle, seed, choice\n",
        "import nltk\n",
        "from tqdm import tqdm\n",
        "from collections import defaultdict\n",
        "\n",
        "# First time you will need to download the corpus:\n",
        "# Run the following and download the book collection\n",
        "\n",
        "from nltk.corpus import brown\n",
        "nltk.download('brown')\n",
        "\n"
      ]
    },
    {
      "cell_type": "markdown",
      "metadata": {
        "id": "4h2E3mvB9ghf"
      },
      "source": [
        "## Bag of N-Grams\n",
        "\n",
        "A BOW is a language modelling technique (also called a Term Frequency Vector) which creates a frequency distribution for a set of tokens -- or unigrams!\n",
        "Extending this idea a bit, we can also create a Bag of N-Grams, which is a frequency distribution for\n",
        "a set of N-grams for some N. If we divide the frequency by the number of N-grams, we have a probability distribution, such as we showed for the exciting text about John and Mary in Lecture 5.\n",
        "\n",
        "For this homework, we are going to create such Bag of N-Gram models for N = 1, 2, 3, & 4, for the sentences\n",
        "in `brown.sents()`.  We will evaluate them using a test set, and then in the second part of the\n",
        "homework, we shall use them to generate sentences.\n",
        "\n",
        "\n",
        "**Note 1:**  We do not want to do the same low-level transformations in this project\n",
        "as we did in HW 02. We will keep the capitalization, punctuation, and\n",
        "words in all their various forms.  There are some strange things in `brown.sents()`, such as double semicolons, and bad sentence segmentation, but we will assume\n",
        "the processing of the texts into `brown.sents()` was consistent, and we will see what\n",
        "our model makes of this data.\n",
        "\n",
        "**Note 2:** Since `brown.sents()` contains punctuation marks as well as words, we shall use the term **tokens**\n",
        "for the strings stored in the sentence lists."
      ]
    },
    {
      "cell_type": "markdown",
      "metadata": {
        "id": "CdjTRs9T9ghf"
      },
      "source": [
        "### Part A: Randomize the list of sentences and split into training and testing sets\n",
        "\n",
        "We will use  `brown.sents()` (a list of list of tokens) as the basis of our N-gram models.\n",
        "The list `brown.words()` is simply the concatenation of all these lists of tokens.\n",
        "\n",
        "We will shuffle the list into a random order, but using a seed value so that the order of the random\n",
        "shuffle is the same each time.\n",
        "\n",
        "1. Read about `numpy.random.seed` and `numpy.random.shuffle`.\n",
        "\n",
        "2. Set the seed to `0` and shuffle the list: you can't shuffle `brown.sents()` and because `numpy.random.shuffle` modifies the list **in place**, to avoid reshuffling:\n",
        "<ul>\n",
        "    <li> Convert <b>brown.sents()</b> to a list and assign to a new variable <b>sentences</b> and then\n",
        "    <li> <b>Copy sentences</b> to a new variable <b>shuffled_sentences</b> and then\n",
        "    <li> Shuffle that list.\n",
        "</ul>\n",
        "\n",
        "In this way, you will have the original list, and a randomized list, but because of `seed(0)` it will be in the same order every time you run your code (and when we grade it).\n",
        "\n",
        "3. Then split  `shuffled_sentences` into sets `training_sents` (first 99.9% of the sentences) and `testing_sents` (last 0.1%).\n",
        "\n",
        "4. Print out the length of the training and testing sets.\n",
        "\n",
        "5. Print out the first sentence in each of these sets.  \n",
        "\n",
        "In 4 and 5, label the outputs so we know which is which. (Always make outputs easy\n",
        "to understand!)\n",
        "\n",
        "NOTE: The terms \"training set\" and \"testing set\" are very standard, even though we store these in lists (it is\n",
        "possible that there are duplicate sentences).\n"
      ]
    },
    {
      "cell_type": "code",
      "execution_count": 4,
      "metadata": {
        "colab": {
          "base_uri": "https://localhost:8080/"
        },
        "id": "eXa6WKQm9ghf",
        "outputId": "9a8fb257-6fd2-41d1-ac2b-9bdfc44158f6",
        "scrolled": false
      },
      "outputs": [
        {
          "name": "stdout",
          "output_type": "stream",
          "text": [
            "Train set length: 57282\n",
            "Test set length: 58\n",
            "Train set 1st sentence:\n",
            "['Muscle', 'weakness', 'did', 'not', 'improve', ',', 'and', 'the', 'patient', 'needed', 'first', 'a', 'cane', ',', 'then', 'crutches', '.']\n",
            "Test set 1st sentence:\n",
            "['It', 'is', 'at', 'least', 'as', 'important', 'as', 'the', 'more', 'dramatic', 'attempts', 'to', 'break', 'down', 'barriers', 'of', 'inequality', 'in', 'the', 'South', '.']\n"
          ]
        }
      ],
      "source": [
        "# First, shuffle the set of sentences\n",
        "seed(0)\n",
        "# your code here\n",
        "sentences = list(brown.sents())\n",
        "shuffled_sentences = sentences.copy()\n",
        "shuffle(shuffled_sentences)\n",
        "split = int(0.999 * len(shuffled_sentences))\n",
        "\n",
        "training_sents = shuffled_sentences[:split]\n",
        "testing_sents = shuffled_sentences[split:]\n",
        "\n",
        "# Print the length of the training and testing sets\n",
        "print(\"Train set length:\", len(training_sents))\n",
        "print(\"Test set length:\", len(testing_sents))\n",
        "\n",
        "# Print the first sentence in each set\n",
        "print(\"Train set 1st sentence:\")\n",
        "print(training_sents[0])\n",
        "\n",
        "print(\"Test set 1st sentence:\")\n",
        "print(testing_sents[0])\n"
      ]
    },
    {
      "cell_type": "markdown",
      "metadata": {
        "id": "1AKcHx6t9ghg"
      },
      "source": [
        "### Part B\n",
        "\n",
        "Now, you must add the beginning `<s>` and ending `</s>` markers to each sentence in both the\n",
        "training and testing lists.   Do not make any other changes\n",
        "to the sentences -- you will see that punctuation has been left in, such as periods at the end\n",
        "of sentences. Again, we will see what our models make of this data set.\n",
        "\n",
        "Print out the first sentence in each of the training and testing sets to check that all is well."
      ]
    },
    {
      "cell_type": "code",
      "execution_count": 5,
      "metadata": {
        "colab": {
          "base_uri": "https://localhost:8080/"
        },
        "id": "-IZT-pSC9ghg",
        "outputId": "d277368d-f458-4d2f-f2eb-1cec7b0411df",
        "scrolled": false
      },
      "outputs": [
        {
          "name": "stdout",
          "output_type": "stream",
          "text": [
            "Train set 1st sentence:\n",
            "['<s>', 'Muscle', 'weakness', 'did', 'not', 'improve', ',', 'and', 'the', 'patient', 'needed', 'first', 'a', 'cane', ',', 'then', 'crutches', '.', '</s>']\n",
            "Test set 1st sentence:\n",
            "['<s>', 'It', 'is', 'at', 'least', 'as', 'important', 'as', 'the', 'more', 'dramatic', 'attempts', 'to', 'break', 'down', 'barriers', 'of', 'inequality', 'in', 'the', 'South', '.', '</s>']\n"
          ]
        }
      ],
      "source": [
        "# put `<s>` at beginning and `</s>` at end of all sentences.\n",
        "\n",
        "def bracket_sentence(sent):\n",
        "  return ['<s>'] + sent + ['</s>']\n",
        "\n",
        "\n",
        "\n",
        "# your code here\n",
        "training_sents = [bracket_sentence(sent) for sent in training_sents]\n",
        "testing_sents = [bracket_sentence(sent) for sent in testing_sents]\n",
        "\n",
        "print(\"Train set 1st sentence:\")\n",
        "print(training_sents[0])\n",
        "\n",
        "print(\"Test set 1st sentence:\")\n",
        "print(testing_sents[0])\n"
      ]
    },
    {
      "cell_type": "markdown",
      "metadata": {
        "id": "joikrWhA9ghg"
      },
      "source": [
        "###  Part C\n",
        "\n",
        "Complete the following template for a function to extract N-grams from one sentence, and test\n",
        "it for N = 1,2,3,4 for the first sentences in the training set."
      ]
    },
    {
      "cell_type": "code",
      "execution_count": 6,
      "metadata": {
        "colab": {
          "base_uri": "https://localhost:8080/"
        },
        "id": "9pmkWgjF9ghg",
        "outputId": "4d376c3d-fbb4-4903-a497-9bfeb82456b8"
      },
      "outputs": [
        {
          "name": "stdout",
          "output_type": "stream",
          "text": [
            "[('<s>',), ('Muscle',), ('weakness',), ('did',), ('not',), ('improve',), (',',), ('and',), ('the',), ('patient',), ('needed',), ('first',), ('a',), ('cane',), (',',), ('then',), ('crutches',), ('.',), ('</s>',)] \n",
            "\n",
            "[('<s>', 'Muscle'), ('Muscle', 'weakness'), ('weakness', 'did'), ('did', 'not'), ('not', 'improve'), ('improve', ','), (',', 'and'), ('and', 'the'), ('the', 'patient'), ('patient', 'needed'), ('needed', 'first'), ('first', 'a'), ('a', 'cane'), ('cane', ','), (',', 'then'), ('then', 'crutches'), ('crutches', '.'), ('.', '</s>')] \n",
            "\n",
            "[('<s>', 'Muscle', 'weakness'), ('Muscle', 'weakness', 'did'), ('weakness', 'did', 'not'), ('did', 'not', 'improve'), ('not', 'improve', ','), ('improve', ',', 'and'), (',', 'and', 'the'), ('and', 'the', 'patient'), ('the', 'patient', 'needed'), ('patient', 'needed', 'first'), ('needed', 'first', 'a'), ('first', 'a', 'cane'), ('a', 'cane', ','), ('cane', ',', 'then'), (',', 'then', 'crutches'), ('then', 'crutches', '.'), ('crutches', '.', '</s>')] \n",
            "\n",
            "[('<s>', 'Muscle', 'weakness', 'did'), ('Muscle', 'weakness', 'did', 'not'), ('weakness', 'did', 'not', 'improve'), ('did', 'not', 'improve', ','), ('not', 'improve', ',', 'and'), ('improve', ',', 'and', 'the'), (',', 'and', 'the', 'patient'), ('and', 'the', 'patient', 'needed'), ('the', 'patient', 'needed', 'first'), ('patient', 'needed', 'first', 'a'), ('needed', 'first', 'a', 'cane'), ('first', 'a', 'cane', ','), ('a', 'cane', ',', 'then'), ('cane', ',', 'then', 'crutches'), (',', 'then', 'crutches', '.'), ('then', 'crutches', '.', '</s>')] \n",
            "\n"
          ]
        }
      ],
      "source": [
        "# Return a list of the N-grams for all sentences s\n",
        "\n",
        "# Store all N-grams as tuples, so that a unigram is (w,), a bigram is (w1,w2), etc.\n",
        "\n",
        "def get_Ngrams_for_sentence(N,s):\n",
        "    s = tuple(s)\n",
        "    grams = []\n",
        "    for i in range(len(s) - N + 1):\n",
        "        gram = s[i:i + N]\n",
        "        grams.append(gram)\n",
        "    return grams\n",
        "\n",
        "\n",
        "# your code here\n",
        "for i in range(1,5):\n",
        "  ngram = get_Ngrams_for_sentence(i,training_sents[0])\n",
        "  print(ngram,\"\\n\")\n"
      ]
    },
    {
      "cell_type": "markdown",
      "metadata": {
        "id": "5y0jMjNb9ghg"
      },
      "source": [
        "###  Part D\n",
        "\n",
        "Now create lists of N-grams for all the sentences in your training set (NOT the testing set).\n",
        "Complete the following template to assign these to the given list.\n",
        "\n",
        "Print out the number of N-grams, and the first 5 N-grams in each list for N = 1, 2, 3, 4.\n",
        "\n",
        "Note that this number is the number of occurrences of N-grams, which may not be unique in the list."
      ]
    },
    {
      "cell_type": "code",
      "execution_count": 7,
      "metadata": {
        "colab": {
          "base_uri": "https://localhost:8080/"
        },
        "id": "7ppweSib9ghg",
        "outputId": "c8284a3d-0aa9-447b-db46-c5123219393a",
        "scrolled": true
      },
      "outputs": [
        {
          "name": "stdout",
          "output_type": "stream",
          "text": [
            "There are 1274667 N-grams in Ngrams[1] and the first 5 are:\n",
            " [('<s>',), ('Muscle',), ('weakness',), ('did',), ('not',)]\n",
            "\n",
            "There are 1217385 N-grams in Ngrams[2] and the first 5 are:\n",
            " [('<s>', 'Muscle'), ('Muscle', 'weakness'), ('weakness', 'did'), ('did', 'not'), ('not', 'improve')]\n",
            "\n",
            "There are 1160103 N-grams in Ngrams[3] and the first 5 are:\n",
            " [('<s>', 'Muscle', 'weakness'), ('Muscle', 'weakness', 'did'), ('weakness', 'did', 'not'), ('did', 'not', 'improve'), ('not', 'improve', ',')]\n",
            "\n",
            "There are 1102821 N-grams in Ngrams[4] and the first 5 are:\n",
            " [('<s>', 'Muscle', 'weakness', 'did'), ('Muscle', 'weakness', 'did', 'not'), ('weakness', 'did', 'not', 'improve'), ('did', 'not', 'improve', ','), ('not', 'improve', ',', 'and')]\n",
            "\n"
          ]
        }
      ],
      "source": [
        "Ngrams = [None]*5    # first slot is empty, then Ngram[1] will hold unigrams, Ngram[2] will hold bigrams, etc.\n",
        "\n",
        "# your code here\n",
        "for N in range(1, 5):\n",
        "    Ngrams[N] = []\n",
        "\n",
        "for N in range(1, 5):\n",
        "  for sentence in training_sents:\n",
        "    ngrams = get_Ngrams_for_sentence(N, sentence)\n",
        "    Ngrams[N].extend(ngrams)\n",
        "\n",
        "for N in range(1, 5):\n",
        "  print(f\"There are {len(Ngrams[N])} N-grams in Ngrams[{N}] and the first 5 are:\\n {Ngrams[N][:5]}\\n\")"
      ]
    },
    {
      "cell_type": "markdown",
      "metadata": {
        "id": "YZtz0BPJ9ghh"
      },
      "source": [
        "### Part E\n",
        "\n",
        "We will now create a probability distribution for each of the Ngram collections. Note carefully\n",
        "that you must divide the frequency of each N-gram by the number of occurrences of N-grams, not\n",
        "the number of unique N-grams.\n",
        "\n",
        "Note that we have set the probability of the unigram `<s>` to 1.0. This is because we are\n",
        "interested in calculating the probability of sentences, which *always* begin with the token `'<s>'`.\n",
        "\n",
        "Complete the following template and then\n",
        "\n",
        "1. Print out the total number of N-grams in each dictionary (they should be a bit smaller than the totals in the last part - why?).\n",
        "2. Test your code by printing out the probability of the following Ngrams to 8 digits of precision:\n",
        "\n",
        "        ('to',)           \n",
        "        ('to','the')            \n",
        "        ('to','the','house')              \n",
        "        ('to','the','house','.')"
      ]
    },
    {
      "cell_type": "code",
      "execution_count": 8,
      "metadata": {
        "colab": {
          "base_uri": "https://localhost:8080/"
        },
        "id": "c5UVm3sh9ghh",
        "outputId": "7c8e2083-aaed-4775-b5a3-17c30427d136",
        "scrolled": true
      },
      "outputs": [
        {
          "name": "stdout",
          "output_type": "stream",
          "text": [
            "Length of Ngram_distribution[1]: 56029\n",
            "Length of Ngram_distribution[2]: 454055\n",
            "Length of Ngram_distribution[3]: 877117\n",
            "Length of Ngram_distribution[4]: 1029391\n",
            "\n",
            "The Probability of ('<s>',) is 1.0.\n",
            "\n",
            "The Probability of ('to',) is 0.02017703.\n",
            "\n",
            "The Probability of ('to','the') is 0.00281341.\n",
            "\n",
            "The Probability of ('to','the','house') is 9.48e-06.\n",
            "\n",
            "The Probability of ('to','the','house','.')  is 2.72e-06.\n"
          ]
        }
      ],
      "source": [
        "# Create a defaultdict with the frequency distribution for the training set for a given N.\n",
        "\n",
        "# your code here\n",
        "\n",
        "def get_Ngram_distribution(N,Ngrams):\n",
        "  ngram_freq = defaultdict(lambda: 0)\n",
        "  ngram_dist = defaultdict(lambda: 0)\n",
        "  for ngram in Ngrams:\n",
        "      ngram_freq[ngram] += 1\n",
        "\n",
        "  for ngram in ngram_freq:\n",
        "      ngram_dist[ngram] = ngram_freq[ngram]/len(Ngrams)\n",
        "\n",
        "  return ngram_dist\n",
        "\n",
        "# now create for N = 1,2,3,4\n",
        "\n",
        "Ngram_distribution = [None]*5\n",
        "\n",
        "# your code here\n",
        "for N in range(1, 5):\n",
        "    Ngram_distribution[N] = get_Ngram_distribution(N, Ngrams[N])\n",
        "\n",
        "#The counts are a little less because we are getting a count for each Ngram rather than the Ngrams itself\n",
        "for N in range(1, 5):\n",
        "    print(f\"Length of Ngram_distribution[{N}]: {len(Ngram_distribution[N])}\")\n",
        "\n",
        "# Since all setences will start with <s>, its probability should be 1.0\n",
        "Ngram_distribution[1][('<s>',)] = 1.0\n",
        "\n",
        "# tests\n",
        "\n",
        "print(f\"\\nThe Probability of ('<s>',) is {np.around(Ngram_distribution[1][('<s>',)],8)}.\")\n",
        "print(f\"\\nThe Probability of ('to',) is {np.around(Ngram_distribution[1][('to',)],8)}.\")\n",
        "print(f\"\\nThe Probability of ('to','the') is {np.around(Ngram_distribution[2][('to','the')],8)}.\")\n",
        "print(f\"\\nThe Probability of ('to','the','house') is {np.around(Ngram_distribution[3][('to','the','house')],8)}.\")\n",
        "print(f\"\\nThe Probability of ('to','the','house','.')  is {np.around(Ngram_distribution[4][('to','the','house','.') ],8)}.\")"
      ]
    },
    {
      "cell_type": "markdown",
      "metadata": {
        "id": "erJZM9b29ghh"
      },
      "source": [
        "## Probability and Perplexity\n",
        "\n",
        "Now we will calculate the probability and the perplexity of sequences\n",
        "of tokens, using the principle of \"Stupid Backoff\" as explained\n",
        "in the paper:\n",
        "\n",
        "https://aclanthology.org/D07-1090.pdf\n",
        "\n",
        "and explicated in this StackOverflow post:\n",
        "\n",
        "https://stackoverflow.com/questions/16383194/stupid-backoff-implementation-clarification\n",
        "\n",
        "Before describing \"Stupid Backoff,\" let us consider the naive way to\n",
        "calculate the probability of a sequence of tokens which starts with `<s>`.\n",
        "\n",
        "#### A simple and naive way to calculate probabilities of sequences of tokens\n",
        "\n",
        "Suppose we have a quadrigram model (N = 4), we have a sequence of tokens\n",
        "\n",
        "$$w_1, w_2, \\cdots, w_n,$$   \n",
        "\n",
        "Assume we have calculated all the N-gram\n",
        "probabilities in  `Ngram_distribution[N]` for N = 1,2,3,4.  \n",
        "\n",
        "\n",
        "We will calculate the probability of each successive token $w_i$ in as much left context as we have, up to 3 (the\n",
        "last token in the 4-gram being $w_i$).\n",
        "\n",
        "\n",
        "$$\\begin{aligned}\n",
        "        p_1 &= \\text{Ngram_distribution[1][($w_1$,)]}    \\\\   \n",
        "        p_2 &=   \\text{Ngram_distribution[2][$( w_1,w_2)$]}\\ / \\ \\text{Ngram_distribution[1][$( w_1,)$]}    \\\\              p_3 &=   \\text{Ngram_distribution[3][$( w_1,w_2,w_3)$]}\\ / \\  \\text{Ngram_distribution[2][$(\\text{'<s>'}, w_1,w_2)$]}   \\\\      \n",
        "        p_4 &=   \\text{Ngram_distribution[4][$( w_1,w_2,w_3,w_4)$]}\\ / \\  \\text{Ngram_distribution[3][$(\\text{'<s>'}, w_1,w_2,w_3)$]}   \\\\        \n",
        "            &\\ldots                             \\\\\n",
        "        p_i &=   \\text{Ngram_distribution[4][$(w_{i-3}, w_{i-2}, w_{i-1}, w_i)$]}\\ /\\  \\text{Ngram_distribution[3][$(w_{i-3}, w_{i-2}, w_{i-1})$]}   \\\\        \n",
        "                    &\\ldots                            \\\\\n",
        "        p_n &=  \\text{Ngram_distribution[4][$(w_{n-3}, w_{n-2}, w_{n-1}, w_n)$]}\\ /\\  \\text{Ngram_distribution[3][$(w_{n-3}, w_{n-2}, w_{n-1})$]}     \\\\        \n",
        "  \\end{aligned}$$\n",
        "  \n",
        "Note that if $w_1$ is `<s>`, then $p_1=1.0$.\n",
        "    \n",
        "Finally, let\n",
        "\n",
        "$$P(\\text{'<s>'}, w_1, w_2, \\cdots, w_n)\\ =\\ p_1\\ast p_2\\ast\\cdots\\ast p_n.$$\n",
        "\n",
        "One messy detail is dealing with the possibility of 0 counts (if that is possible); thus,\n",
        "if the numerator in the above expressions is 0, then the entire product is 0 (you want to avoid\n",
        "a divide by 0 error in the denominator).\n",
        "\n",
        "#### What could possibly go wrong?\n",
        "\n",
        "Well, if our sentence is from our training set, nothing!  All the probabilities will\n",
        "have been calculated for all the possible N-grams.\n",
        "\n",
        "However, when we have a separate\n",
        "training set, we have to account for the fact that **some N-grams (and even\n",
        "some tokens) may occur in the testing set which do not occur in the training set,\n",
        "and so their probability will be 0.**  However, we want to make the best estimate\n",
        "of the probability we can!\n",
        "\n",
        "There are various solutions, which we discussed in lectures 5 and 6, but the simplest\n",
        "(and very effective for large data sets) is \"Stupid Backoff,\" recursively defined as follows\n",
        "for bigrams, trigrams, and quadrigrams, and **using the probability calculations shown above.**\n",
        "\n",
        "    PN_stupid_backoff(w1) = p1   as defined above           # if this is not 0, else:\n",
        "                          = (frequency of w1 in whole corpus / number of tokens in whole corpus)\n",
        "              \n",
        "    PN_stupid_backoff(w1, w2) = p2   as defined above         # if this is not 0, else:\n",
        "                              = 0.4 * P_stupid_backoff(w2)    # recursive, use previous definition\n",
        "\n",
        "    PN_stupid_backoff(w1, w2, w3) = p3   as defined above           # if this is not 0, else:\n",
        "                                  = 0.4 * P_stupid_backoff(w2, w3)  # recursive, use definition above\n",
        "\n",
        "                       \n",
        "    PN_stupid_backoff(w1, w2, w3, w4) = p4  as defined above                 # if this is not 0, else:\n",
        "                                      = 0.4 * P_stupid_backoff(w2, w3, w4)   # recursive, previous definition\n",
        "\n",
        "This accounts for how to backoff when trying to find the probability of some $w_i$ in a left context\n",
        "of 1, 2, or 3 tokens.\n",
        "\n",
        "Then we use these calculations instead of $p_1$, $p_2$ as in the previous algorithm, for trigrams\n",
        "it would be:\n",
        "\n",
        "     P_stupid_backoff(w1, w2, w3, w4, ..., wn) =   PN_stupid_backoff(w1)\n",
        "                                                 * PN_stupid_backoff(w1, w2)\n",
        "                                                 * PN_stupid_backoff(w1, w2, w3)\n",
        "                                                 * PN_stupid_backoff(w2, w3, w4)\n",
        "                                                 ...\n",
        "                                                 * PN_stupid_backoff(w(n-2), w(n-1), wn)\n",
        "\n",
        "The \"discount factor\"\n",
        "0.4 was proposed by the originators of the method, and seems to work well in practice.\n",
        "\n",
        "This calculation is unnecessary in generative models, since then we will train on the entire\n",
        "corpus, and only use available N-grams to produce sentences."
      ]
    },
    {
      "cell_type": "markdown",
      "metadata": {
        "id": "V9AWChiX9ghh"
      },
      "source": [
        "## Problem 2\n",
        "\n",
        "Now we will calculate the probability of a sequence of tokens. We will warm up by considering\n",
        "the simple case, and then consider the more complex case, where\n",
        "\"stupid backoff\" will be used.\n",
        "\n",
        "### Part A\n",
        "\n",
        "For this part, complete the following template to create a function which will\n",
        "calculate the probability of a sequence of tokens.\n",
        "\n",
        "**Since you may want to use this in the stupid backoff version, you should make sure that if the\n",
        "numerator in the conditional probability calculation is 0, immediately return 0,\n",
        "so that there is no possibility of divide by 0 in the denominator.**\n",
        "\n",
        "Tests are provided following the cell in which you will write your code."
      ]
    },
    {
      "cell_type": "code",
      "execution_count": 9,
      "metadata": {
        "id": "1Y10u7y49ghh"
      },
      "outputs": [],
      "source": [
        "# Probability of a list of tokens using N-grams\n",
        "# W a list of tokens\n",
        "\n",
        "# Calculate the probability of the last token in W, as we did in the calculation of p1, p2, etc. above\n",
        "# check numerator: if it is 0, return 0 immediately and do not do the division (to avoid possible\n",
        "# division by 0)\n",
        "\n",
        "# N == len(W)\n",
        "\n",
        "def PN(N,W):\n",
        "    if Ngram_distribution[N].get(W, 0) == 0:\n",
        "        return 0\n",
        "\n",
        "    numerator = Ngram_distribution[N].get(W, 0)\n",
        "    if Ngram_distribution[N - 1] == None: # If N is 1 we do not have Ngram_distribution[0], so return numerator\n",
        "        return Ngram_distribution[N].get(W, 0)\n",
        "    else:\n",
        "        return numerator / Ngram_distribution[N - 1].get(W[:-1], 0)\n",
        "\n",
        "# Now calculate for a whole sequence: use PN(..) for bigram, trigram, etc. up\n",
        "# model, then slide PN(...) across the sequence, as shown above.\n",
        "def P(N,W):\n",
        "    probability = 1.0\n",
        "    step = N - 2          # Calculates the number of steps required for the expansion\n",
        "    gram = 2\n",
        "    #Expansion phase\n",
        "    for j in range(step):\n",
        "      p = PN(gram, W[:gram])\n",
        "      gram+=1\n",
        "      probability *= p\n",
        "    #Sliding phase\n",
        "    for i in range(N - 1, len(W)):\n",
        "      p = PN(N, W[i - N + 1:i + 1])\n",
        "      probability *= p\n",
        "    return probability\n"
      ]
    },
    {
      "cell_type": "markdown",
      "metadata": {
        "id": "541Ka5Xs9ghh"
      },
      "source": [
        "The following are tests to make sure your code is working properly. The values printed\n",
        "should be the same."
      ]
    },
    {
      "cell_type": "code",
      "execution_count": 10,
      "metadata": {
        "colab": {
          "base_uri": "https://localhost:8080/"
        },
        "id": "VwxLl9oX9ghi",
        "outputId": "94eb42b7-2cbf-492d-9ffd-895514dcca4a"
      },
      "outputs": [
        {
          "name": "stdout",
          "output_type": "stream",
          "text": [
            "a= 0.002346012148991486\n",
            "   0.002346012148991486\n",
            "b = 0.000351478118528877\n",
            "   0.000351478118528877\n",
            "c= 0.39264499316157175\n",
            "   0.39264499316157175\n",
            "d= 1.0470533150975245\n",
            "   1.0470533150975245\n",
            "\n",
            "a*b*c*d:   3.389982137368031e-07\n",
            "P(2,...):  3.389982137368031e-07\n"
          ]
        }
      ],
      "source": [
        "#  Sentence:  He frowned.\n",
        "#  Using a bigram model\n",
        "\n",
        "a = Ngram_distribution[2][('<s>','He')]\n",
        "b = Ngram_distribution[2][('He','frowned')] / Ngram_distribution[1][('He',)]\n",
        "c = Ngram_distribution[2][('frowned','.')] / Ngram_distribution[1][('frowned',)]\n",
        "d = Ngram_distribution[2][('.','</s>')] / Ngram_distribution[1][('.',)]\n",
        "\n",
        "\n",
        "print('a=', a)\n",
        "print('  ', PN(2,('<s>','He')))\n",
        "print('b =', b)\n",
        "print('  ', PN(2,('He','frowned')))\n",
        "print('c=', c)\n",
        "print('  ', PN(2,('frowned','.')))\n",
        "print('d=', d)\n",
        "print('  ', PN(2,('.','</s>')))\n",
        "\n",
        "print('\\na*b*c*d:  ',a*b*c*d)\n",
        "print('P(2,...): ', P(2,('<s>','He','frowned','.','</s>')))"
      ]
    },
    {
      "cell_type": "code",
      "execution_count": 11,
      "metadata": {
        "colab": {
          "base_uri": "https://localhost:8080/"
        },
        "id": "6vMrA0Yw9ghi",
        "outputId": "8c61d403-9396-4241-bb04-4eba3d838d60"
      },
      "outputs": [
        {
          "name": "stdout",
          "output_type": "stream",
          "text": [
            "a*b*c*d:   9.492186072583041e-07\n",
            "P(3,...):  9.492186072583041e-07\n"
          ]
        }
      ],
      "source": [
        "#  Sentence:  He frowned.\n",
        "#  Using a trigram model\n",
        "\n",
        "a = Ngram_distribution[2][('<s>','He')]\n",
        "b = Ngram_distribution[3][('<s>','He','frowned')] / Ngram_distribution[2][('<s>','He',)]\n",
        "c = Ngram_distribution[3][('He','frowned','.')] / Ngram_distribution[2][('He','frowned',)]\n",
        "d = Ngram_distribution[3][('frowned','.','</s>')] / Ngram_distribution[2][('frowned','.',)]\n",
        "\n",
        "print('a*b*c*d:  ',a*b*c*d)\n",
        "print('P(3,...): ', P(3,('<s>','He','frowned','.','</s>')))"
      ]
    },
    {
      "cell_type": "code",
      "execution_count": 12,
      "metadata": {
        "colab": {
          "base_uri": "https://localhost:8080/"
        },
        "id": "dbRT0GHo9ghi",
        "outputId": "553d75db-3007-4636-97fa-4a29d3c9c9e7"
      },
      "outputs": [
        {
          "name": "stdout",
          "output_type": "stream",
          "text": [
            "a*b*c*d:   9.538640808692934e-07\n",
            "P(4,...):  9.538640808692934e-07\n"
          ]
        }
      ],
      "source": [
        "#  Sentence:  He frowned.\n",
        "#  Using a quadrigram model\n",
        "\n",
        "a = Ngram_distribution[2][('<s>','He')]\n",
        "b = Ngram_distribution[3][('<s>','He','frowned')] / Ngram_distribution[2][('<s>','He',)]\n",
        "c = Ngram_distribution[4][('<s>','He','frowned','.')] / Ngram_distribution[3][('<s>','He','frowned',)]\n",
        "d = Ngram_distribution[4][('He','frowned','.','</s>')] / Ngram_distribution[3][('He','frowned','.',)]\n",
        "\n",
        "print('a*b*c*d:  ',a*b*c*d)\n",
        "print('P(4,...): ', P(4,('<s>','He','frowned','.','</s>')))"
      ]
    },
    {
      "cell_type": "code",
      "execution_count": 13,
      "metadata": {
        "colab": {
          "base_uri": "https://localhost:8080/"
        },
        "id": "jvwSylcU9ghi",
        "outputId": "c2d946f4-d9d2-4412-c9fe-9fd255d739de"
      },
      "outputs": [
        {
          "name": "stdout",
          "output_type": "stream",
          "text": [
            "a= 0.001128648701930778 \n",
            "b= 0.0015274769289326804 \n",
            "c= 0.0 \n",
            "d1= 0 \n",
            "d2= 0 \n",
            "\n",
            "a*b*d*d1:   0.0\n",
            "P(3,...):  0.0\n"
          ]
        }
      ],
      "source": [
        "# Sentence:  I love NLP\n",
        "# using trigrams\n",
        "\n",
        "# This shows that you should test the numerator to see if it is 0, because then\n",
        "# you can return 0 immediately, and not have the possibility of division by 0,\n",
        "# which would occur in the cases d below (c is 0 but would not cause division by 0)\n",
        "\n",
        "a  = Ngram_distribution[2][('<s>','I')]\n",
        "b  = Ngram_distribution[3][('<s>','I','love')] / Ngram_distribution[2][('<s>','I',)]\n",
        "c  = Ngram_distribution[3][('I','love','NLP')] / Ngram_distribution[2][('I','love')]\n",
        "d1 = Ngram_distribution[3][('love','NLP','</s>')]\n",
        "d2 = Ngram_distribution[2][('love','NLP')]\n",
        "\n",
        "print('a=',a,'\\nb=',b,'\\nc=',c,'\\nd1=',d1,'\\nd2=',d2,'\\n')\n",
        "\n",
        "print('a*b*d*d1:  ',a*b*c*d1)\n",
        "print('P(3,...): ', P(3,('<s>','I','love','NLP','</s>')))"
      ]
    },
    {
      "cell_type": "markdown",
      "metadata": {
        "id": "CAbILwte9ghi"
      },
      "source": [
        "### Part B\n",
        "\n",
        "Now we will develop the probability for a sequence with the possibility that some N-grams, or\n",
        "even some tokens, are not in the training set. We will use the idea of \"stupid backoff\" explained\n",
        "in lecture.\n",
        "\n",
        "Complete the following template and verify that it passes all the tests.\n"
      ]
    },
    {
      "cell_type": "code",
      "execution_count": 14,
      "metadata": {
        "id": "mYlVBlIq9ghi"
      },
      "outputs": [],
      "source": [
        "# Probability with stupid backoff\n",
        "# same as previous, but have to use recursive (or iterative) method instead of\n",
        "# calling Ngram_distribution directly\n",
        "\n",
        "# W a list of tokens\n",
        "import re\n",
        "\n",
        "sentences = list(brown.words())\n",
        "num_all_tokens = len(brown.words())\n",
        "\n",
        "# This returns backed-off probability for single N-gram\n",
        "# len(W) must be N, this will try whole N-gram, then last N-1 tokens, then N-2, etc. down to 1 token.\n",
        "\n",
        "# Assumes W is a tuple\n",
        "\n",
        "# calculate for a particular length N-gram\n",
        "# must have N == len(W)\n",
        "\n",
        "def PN_with_stupid_backoff(N,W):\n",
        "    if N == 1:\n",
        "      if Ngram_distribution[N].get(W, 0) == 0:\n",
        "        count = sentences.count(W[0])\n",
        "        return count / num_all_tokens\n",
        "    else:\n",
        "      if Ngram_distribution[N].get(W, 0) == 0:\n",
        "        backoff_prob = 0.4 * PN_with_stupid_backoff(N - 1, W[1:])\n",
        "        return backoff_prob\n",
        "\n",
        "    numerator = Ngram_distribution[N].get(W, 0)\n",
        "    if Ngram_distribution[N - 1] == None:\n",
        "        return Ngram_distribution[N].get(W, 0)\n",
        "    else:\n",
        "        return numerator / Ngram_distribution[N - 1].get(W[:-1], 0)\n",
        "\n",
        "\n",
        "\n",
        "# Note that for training set, this will be same as P(N,W) since all probabilities are non-zero\n",
        "\n",
        "# Really the same as P(N,W) except using the previous function, and no need to check for 0,\n",
        "# since it never returns 0 for a sequence using words from the corpus\n",
        "\n",
        "\n",
        "\n",
        "def P_stupid_backoff(N,W):\n",
        "    probability = 1.0\n",
        "    step = N - 2\n",
        "    gram = 2\n",
        "    #Expansion phase\n",
        "    for j in range(step):\n",
        "      p = PN_with_stupid_backoff(gram, W[:gram])\n",
        "      gram+=1\n",
        "      probability *= p\n",
        "    #Sliding phase\n",
        "    for i in range(N - 1, len(W)):\n",
        "      p = PN_with_stupid_backoff(N, W[i - N + 1:i + 1])\n",
        "      probability *= p\n",
        "    return probability\n",
        "\n"
      ]
    },
    {
      "cell_type": "markdown",
      "metadata": {
        "id": "mQN3eMX29ghi"
      },
      "source": [
        "The following are tests to make sure your code is working properly. The values printed\n",
        "should be the same."
      ]
    },
    {
      "cell_type": "code",
      "execution_count": 15,
      "metadata": {
        "colab": {
          "base_uri": "https://localhost:8080/"
        },
        "id": "gUzz1IBU9ghi",
        "outputId": "b452168c-617d-4f72-e0e0-3b215984cd81"
      },
      "outputs": [
        {
          "data": {
            "text/plain": [
              "0.0"
            ]
          },
          "execution_count": 15,
          "metadata": {},
          "output_type": "execute_result"
        }
      ],
      "source": [
        "# 'grandstand' is in testing set but not in the training set\n",
        "# This uses bigrams\n",
        "\n",
        "P(2,('<s>','where','is','the','grandstand'))"
      ]
    },
    {
      "cell_type": "code",
      "execution_count": 16,
      "metadata": {
        "colab": {
          "base_uri": "https://localhost:8080/"
        },
        "id": "mh6R-9jI9ghj",
        "outputId": "78a35b70-4867-4ebb-f6db-39d2325e1e29"
      },
      "outputs": [
        {
          "name": "stdout",
          "output_type": "stream",
          "text": [
            "a = 1.6428656505542618e-06 \n",
            "b = 0.006166391726133832 \n",
            "c = 0.08182229363508187 \n",
            "d2= 0 \n",
            "d1= 0 \n",
            "d = 8.611840246918683e-07 \n",
            "\n",
            "2.855359302895301e-16\n",
            "2.855359302895301e-16\n"
          ]
        }
      ],
      "source": [
        "a = PN(2,('<s>','where'))\n",
        "b = PN(2,('where','is'))\n",
        "c = PN(2,('is','the'))\n",
        "d2 = PN(2,('the','grandstand'))     # this is 0, so use less context\n",
        "d1 = PN(1,('grandstand'))           # this is 0, so use 0.4*d instead of d2\n",
        "d  = list(brown.words()).count('grandstand') / len(brown.words())\n",
        "\n",
        "print('a =',a,'\\nb =',b,'\\nc =',c,'\\nd2=',d2,'\\nd1=',d1,'\\nd =',d,'\\n')\n",
        "print(a*b*c*(0.4*d))\n",
        "print(P_stupid_backoff(2,('<s>','where','is','the','grandstand')))"
      ]
    },
    {
      "cell_type": "code",
      "execution_count": 17,
      "metadata": {
        "colab": {
          "base_uri": "https://localhost:8080/"
        },
        "id": "mRcn74Of9ghj",
        "outputId": "224b6c0b-7da6-4b56-923d-6d38faedfc5f"
      },
      "outputs": [
        {
          "data": {
            "text/plain": [
              "0.0"
            ]
          },
          "execution_count": 17,
          "metadata": {},
          "output_type": "execute_result"
        }
      ],
      "source": [
        "# 'grandstand' is in testing set but not in the training set\n",
        "# This uses trigrams\n",
        "\n",
        "P(3,('<s>','where','is','the','grandstand'))"
      ]
    },
    {
      "cell_type": "code",
      "execution_count": 18,
      "metadata": {
        "colab": {
          "base_uri": "https://localhost:8080/"
        },
        "id": "Mcn1Qm9S9ghj",
        "outputId": "20a8cf41-a2fe-4878-b2b4-0951a25cac30"
      },
      "outputs": [
        {
          "name": "stdout",
          "output_type": "stream",
          "text": [
            "a = 1.6428656505542618e-06 \n",
            "b3= 0 \n",
            "b2= 0.006166391726133832 \n",
            "c = 0.4197506600707006 \n",
            "d3= 0 \n",
            "d2= 0 \n",
            "d1= 0 \n",
            "d = 8.611840246918683e-07 \n",
            "\n",
            "2.3436917228933544e-16\n",
            "2.3436917228933544e-16\n"
          ]
        }
      ],
      "source": [
        "a  = PN(2,('<s>','where'))               # <= this works\n",
        "b3 = PN(3,('<s>','where','is'))         # this is 0, so try less context\n",
        "b2 = PN(2,('where','is'))               # <= this works\n",
        "c  = PN(3,('where','is','the'))          # <= this works\n",
        "\n",
        "d3 = PN(3,('is','the','grandstand'))    # this is 0, so try less context\n",
        "d2 = PN(2,('the','grandstand'))         # this is 0, so try less context\n",
        "d1 = PN(1,('grandstand'))               # this is 0, so use probability in whole corpus\n",
        "d  = list(brown.words()).count('grandstand') / len(brown.words())     # <= this works\n",
        "\n",
        "print('a =',a,'\\nb3=',b3,'\\nb2=',b2,'\\nc =',c,'\\nd3=',d3,'\\nd2=',d2,'\\nd1=',d1,'\\nd =',d,'\\n')\n",
        "\n",
        "# every time we try less context, must multiply by 0.4, so we\n",
        "# use 0.4*b2 instead of b3 and 0.4*0.4*e instead of d3\n",
        "print(a*(0.4*b2)*c*(0.4*0.4*d))\n",
        "print(P_stupid_backoff(3,('<s>','where','is','the','grandstand')))"
      ]
    },
    {
      "cell_type": "code",
      "execution_count": 19,
      "metadata": {
        "colab": {
          "base_uri": "https://localhost:8080/"
        },
        "id": "02VJn8cR9ghj",
        "outputId": "e3b1db8c-c55e-40ee-dffb-611189666b43"
      },
      "outputs": [
        {
          "name": "stdout",
          "output_type": "stream",
          "text": [
            "a = 0.005372992110137713 \n",
            "b3= 0 \n",
            "b2= 0 \n",
            "b1= 0 \n",
            "b = 8.611840246918683e-07\n",
            "c3= 0 \n",
            "c2= 0 \n",
            "c1= 7.21757133431712e-05 \n",
            "d3= 0 \n",
            "d2= 0.01138101429453831 \n",
            "e3= 0 \n",
            "e2= 0.0011817757506744071 \n",
            "\n",
            "1.839836556015632e-20\n",
            "1.839836556015632e-20\n"
          ]
        }
      ],
      "source": [
        "a  = PN(2,('<s>','The'))                   #   <= this works\n",
        "\n",
        "b3 = PN(3,('<s>','The','grandstand'))      # this is 0, so try less context (smaller N)\n",
        "b2 = PN(2,('The','grandstand'))            # this is 0, so try less context\n",
        "b1 = PN(1,('grandstand',))                 # this is 0, so have to use frequency in whole corpus\n",
        "b  = list(brown.words()).count('grandstand') / len(brown.words())    #   <= this works\n",
        "\n",
        "c3 = PN(3,('The','grandstand','fell'))     # this is 0, so try less context\n",
        "c2 = PN(2,('grandstand','fell'))           # this is 0, so try less context\n",
        "c1 = PN(1,('fell',))                       # ok, this works\n",
        "\n",
        "d3 = PN(3,('grandstand','fell','down'))   # this is 0, so try less context\n",
        "d2 = PN(2,('fell','down'))                #   <= this works\n",
        "\n",
        "e3 = PN(3,('fell','down','</s>'))         # this is 0, so try less context\n",
        "e2 = PN(2,('down','</s>'))                #  <= this works\n",
        "\n",
        "# every time we tried a smaller N, we have to multiply by 0.4\n",
        "# so we use a, then 0.4*0.4*b0, then 0.4*0.4*c1, then 0.4*d2, then 0.4*e2e.\n",
        "\n",
        "print('a =',a,'\\nb3=',b3,'\\nb2=',b2,'\\nb1=',b1,'\\nb =',b)\n",
        "print('c3=',c3,'\\nc2=',c2,'\\nc1=',c1,'\\nd3=',d3,'\\nd2=',d2,'\\ne3=',e3,'\\ne2=',e2,'\\n')\n",
        "\n",
        "print(a * (0.4*0.4*b) * (0.4*0.4*c1) * (0.4*d2) * (0.4*e2) )\n",
        "print(P_stupid_backoff(3,('<s>','The','grandstand','fell','down','</s>')))"
      ]
    },
    {
      "cell_type": "markdown",
      "metadata": {
        "id": "Rj8-b52Y9ghj"
      },
      "source": [
        "### Part C\n",
        "\n",
        "Now we will implement the notion of *perplexity* as explained in lecture. Refer to\n",
        "the formula presented there to complete the following template, and verify\n",
        "that it passes all the tests."
      ]
    },
    {
      "cell_type": "code",
      "execution_count": 20,
      "metadata": {
        "id": "1frmQR9N9ghj"
      },
      "outputs": [],
      "source": [
        "# Perplexity\n",
        "\n",
        "# We assume that W starts with <s>, may not end with </s>\n",
        "\n",
        "def PP(N,W):\n",
        "    probability = P_stupid_backoff(N,W)\n",
        "    n = (len(W) - 1)\n",
        "    perplexity = probability ** (-1/n)\n",
        "    return perplexity\n",
        "\n"
      ]
    },
    {
      "cell_type": "markdown",
      "metadata": {
        "id": "O1oA3ysV9ghj"
      },
      "source": [
        "If we know that no probabilities can be 0,  then P is same as P_stupid_backoff"
      ]
    },
    {
      "cell_type": "code",
      "execution_count": 21,
      "metadata": {
        "colab": {
          "base_uri": "https://localhost:8080/"
        },
        "id": "v8VXnosS9ghj",
        "outputId": "c31dc816-2e54-475a-cd82-bdd9f5f0b393"
      },
      "outputs": [
        {
          "data": {
            "text/plain": [
              "186.11603730316466"
            ]
          },
          "execution_count": 21,
          "metadata": {},
          "output_type": "execute_result"
        }
      ],
      "source": [
        "PP(2,('<s>','The'))"
      ]
    },
    {
      "cell_type": "code",
      "execution_count": 22,
      "metadata": {
        "colab": {
          "base_uri": "https://localhost:8080/"
        },
        "id": "2ug2IiVf9ghj",
        "outputId": "1cee16f2-3965-42c7-e8dc-7b5502e48f3b"
      },
      "outputs": [
        {
          "data": {
            "text/plain": [
              "186.11603730316466"
            ]
          },
          "execution_count": 22,
          "metadata": {},
          "output_type": "execute_result"
        }
      ],
      "source": [
        "P(2,('<s>','The'))**(-1/1)"
      ]
    },
    {
      "cell_type": "code",
      "execution_count": 23,
      "metadata": {
        "colab": {
          "base_uri": "https://localhost:8080/"
        },
        "id": "u9nRpcQf9ghj",
        "outputId": "d60fac8b-4c33-4b7e-d464-8d56f1d13ccb"
      },
      "outputs": [
        {
          "data": {
            "text/plain": [
              "186.11603730316466"
            ]
          },
          "execution_count": 23,
          "metadata": {},
          "output_type": "execute_result"
        }
      ],
      "source": [
        "P_stupid_backoff(2,('<s>','The'))**(-1/1)"
      ]
    },
    {
      "cell_type": "code",
      "execution_count": 24,
      "metadata": {
        "colab": {
          "base_uri": "https://localhost:8080/"
        },
        "id": "0aIyA7mr9ghj",
        "outputId": "abd9cdf3-02d6-43e3-d1c2-2ba4fa6803f2"
      },
      "outputs": [
        {
          "data": {
            "text/plain": [
              "308.91157551766736"
            ]
          },
          "execution_count": 24,
          "metadata": {},
          "output_type": "execute_result"
        }
      ],
      "source": [
        "PP(2,('<s>','The','man','went'))"
      ]
    },
    {
      "cell_type": "code",
      "execution_count": 25,
      "metadata": {
        "colab": {
          "base_uri": "https://localhost:8080/"
        },
        "id": "zaWkj90o9ghj",
        "outputId": "c154f47d-b5cf-4b00-a87e-0b4359e38e72"
      },
      "outputs": [
        {
          "data": {
            "text/plain": [
              "308.91157551766736"
            ]
          },
          "execution_count": 25,
          "metadata": {},
          "output_type": "execute_result"
        }
      ],
      "source": [
        "P(2,('<s>','The','man','went'))**(-1/3)"
      ]
    },
    {
      "cell_type": "code",
      "execution_count": 26,
      "metadata": {
        "colab": {
          "base_uri": "https://localhost:8080/"
        },
        "id": "-NSCcrTI9ghk",
        "outputId": "af2f0e08-b626-4099-c65f-9b36aa31082a"
      },
      "outputs": [
        {
          "data": {
            "text/plain": [
              "308.91157551766736"
            ]
          },
          "execution_count": 26,
          "metadata": {},
          "output_type": "execute_result"
        }
      ],
      "source": [
        "P_stupid_backoff(2,('<s>','The','man','went'))**(-1/3)"
      ]
    },
    {
      "cell_type": "code",
      "execution_count": 27,
      "metadata": {
        "colab": {
          "base_uri": "https://localhost:8080/"
        },
        "id": "1DhpxPhB9ghk",
        "outputId": "5239e66b-083d-410d-b65e-a416218a7af1"
      },
      "outputs": [
        {
          "data": {
            "text/plain": [
              "35.03849995731908"
            ]
          },
          "execution_count": 27,
          "metadata": {},
          "output_type": "execute_result"
        }
      ],
      "source": [
        "PP(2,('<s>','The','man','went','to','the', 'house','.','</s>'))"
      ]
    },
    {
      "cell_type": "code",
      "execution_count": 28,
      "metadata": {
        "colab": {
          "base_uri": "https://localhost:8080/"
        },
        "id": "EWI5P91Y9ghk",
        "outputId": "c748a546-ae77-477d-8326-01056cfbb98e"
      },
      "outputs": [
        {
          "data": {
            "text/plain": [
              "35.03849995731908"
            ]
          },
          "execution_count": 28,
          "metadata": {},
          "output_type": "execute_result"
        }
      ],
      "source": [
        "P(2,('<s>','The','man','went','to','the', 'house','.','</s>'))**(-1/8)"
      ]
    },
    {
      "cell_type": "code",
      "execution_count": 29,
      "metadata": {
        "colab": {
          "base_uri": "https://localhost:8080/"
        },
        "id": "C1KonTN39ghk",
        "outputId": "fc8e6661-7af0-4937-b848-46cf0df1e648"
      },
      "outputs": [
        {
          "data": {
            "text/plain": [
              "35.03849995731908"
            ]
          },
          "execution_count": 29,
          "metadata": {},
          "output_type": "execute_result"
        }
      ],
      "source": [
        "P_stupid_backoff(2,('<s>','The','man','went','to','the', 'house','.','</s>'))**(-1/8)"
      ]
    },
    {
      "cell_type": "markdown",
      "metadata": {
        "id": "f2OtlQCB9ghl"
      },
      "source": [
        "When probabilities may be 0, we must use stupid backoff"
      ]
    },
    {
      "cell_type": "code",
      "execution_count": 30,
      "metadata": {
        "colab": {
          "base_uri": "https://localhost:8080/"
        },
        "id": "4dVxumnR9ghl",
        "outputId": "5926ef46-43f9-464c-ef53-4b937eedcc0b"
      },
      "outputs": [
        {
          "data": {
            "text/plain": [
              "7692.8065013245405"
            ]
          },
          "execution_count": 30,
          "metadata": {},
          "output_type": "execute_result"
        }
      ],
      "source": [
        "PP(2,('<s>','where','is','the','grandstand'))"
      ]
    },
    {
      "cell_type": "code",
      "execution_count": 31,
      "metadata": {
        "colab": {
          "base_uri": "https://localhost:8080/"
        },
        "id": "YSNZEw2O9ghl",
        "outputId": "e992cf1b-eaf7-434e-eb72-bdbdccd888b3"
      },
      "outputs": [
        {
          "data": {
            "text/plain": [
              "7692.8065013245405"
            ]
          },
          "execution_count": 31,
          "metadata": {},
          "output_type": "execute_result"
        }
      ],
      "source": [
        "P_stupid_backoff(2,('<s>','where','is','the','grandstand'))**(-1/4)"
      ]
    },
    {
      "cell_type": "code",
      "execution_count": 32,
      "metadata": {
        "colab": {
          "base_uri": "https://localhost:8080/"
        },
        "id": "xcWFOaUQ9ghl",
        "outputId": "d0a6bea6-cfbb-4515-b87f-9fc3c65b209a"
      },
      "outputs": [
        {
          "data": {
            "text/plain": [
              "8082.112259400884"
            ]
          },
          "execution_count": 32,
          "metadata": {},
          "output_type": "execute_result"
        }
      ],
      "source": [
        "PP(3,('<s>','where','is','the','grandstand'))"
      ]
    },
    {
      "cell_type": "code",
      "execution_count": 33,
      "metadata": {
        "colab": {
          "base_uri": "https://localhost:8080/"
        },
        "id": "IPJMVhbA9ghl",
        "outputId": "5e12ee0f-6d9c-47f2-9c59-436e9341c5a5"
      },
      "outputs": [
        {
          "data": {
            "text/plain": [
              "8082.112259400884"
            ]
          },
          "execution_count": 33,
          "metadata": {},
          "output_type": "execute_result"
        }
      ],
      "source": [
        "P_stupid_backoff(3,('<s>','where','is','the','grandstand'))**(-1/4)"
      ]
    },
    {
      "cell_type": "code",
      "execution_count": 34,
      "metadata": {
        "colab": {
          "base_uri": "https://localhost:8080/"
        },
        "id": "XE-AZSEa9ghl",
        "outputId": "8d39b71f-901c-465b-b082-f3b31e665b9b"
      },
      "outputs": [
        {
          "data": {
            "text/plain": [
              "8852.055970670379"
            ]
          },
          "execution_count": 34,
          "metadata": {},
          "output_type": "execute_result"
        }
      ],
      "source": [
        "PP(3,('<s>','The','grandstand','fell','down','</s>'))"
      ]
    },
    {
      "cell_type": "code",
      "execution_count": 35,
      "metadata": {
        "colab": {
          "base_uri": "https://localhost:8080/"
        },
        "id": "YpI_iyLp9ghl",
        "outputId": "010d294a-0873-4fa5-e5ed-14db67f7a2c4"
      },
      "outputs": [
        {
          "data": {
            "text/plain": [
              "8852.055970670379"
            ]
          },
          "execution_count": 35,
          "metadata": {},
          "output_type": "execute_result"
        }
      ],
      "source": [
        "P_stupid_backoff(3,('<s>','The','grandstand','fell','down','</s>'))**(-1/5)"
      ]
    },
    {
      "cell_type": "code",
      "execution_count": 36,
      "metadata": {
        "colab": {
          "base_uri": "https://localhost:8080/"
        },
        "id": "XPc_GkMY9ghl",
        "outputId": "39aea218-0b52-454e-d0c6-8dd56eef996a"
      },
      "outputs": [
        {
          "data": {
            "text/plain": [
              "15339.392368477242"
            ]
          },
          "execution_count": 36,
          "metadata": {},
          "output_type": "execute_result"
        }
      ],
      "source": [
        "PP(4,('<s>','The','grandstand','fell','down','</s>'))"
      ]
    },
    {
      "cell_type": "code",
      "execution_count": 37,
      "metadata": {
        "colab": {
          "base_uri": "https://localhost:8080/"
        },
        "id": "cBNi0CoR9ghl",
        "outputId": "32e476eb-b419-4875-d985-f7792072cd51"
      },
      "outputs": [
        {
          "data": {
            "text/plain": [
              "15339.392368477242"
            ]
          },
          "execution_count": 37,
          "metadata": {},
          "output_type": "execute_result"
        }
      ],
      "source": [
        "P_stupid_backoff(4,('<s>','The','grandstand','fell','down','</s>'))**(-1/5)"
      ]
    },
    {
      "cell_type": "markdown",
      "metadata": {
        "id": "H4ghEzvI9ghl"
      },
      "source": [
        "### Part D\n",
        "\n",
        "Print out the first ten sentences in the training set, with their perplexities to 2 decimal places, using trigrams.  Then do the\n",
        "same for the testing set.\n",
        "\n",
        "Print out the text of the sentences in a readable form, e.g., for a sentence `w`, print it out using\n",
        "\n",
        "    ' '.join(w[1:-1)\n",
        "    \n",
        "    \n",
        "Notice the perplexities of the training set are generally smaller than the testing set!"
      ]
    },
    {
      "cell_type": "code",
      "execution_count": 38,
      "metadata": {
        "colab": {
          "base_uri": "https://localhost:8080/"
        },
        "id": "ukPr9FEu9ghl",
        "outputId": "11eb952a-6621-4fb4-ff72-eff25e34a17b",
        "scrolled": false
      },
      "outputs": [
        {
          "name": "stdout",
          "output_type": "stream",
          "text": [
            "Training Set Perplexities:\n",
            "10.76\t Muscle weakness did not improve , and the patient needed first a cane , then crutches .\n",
            "10.74\t He replaced the flashlight where it had been stowed , got into his own car and backed it out of the garage .\n",
            "8.42\t When he had given the call a few moments thought , he went into the kitchen to ask Mrs. Yamata to prepare tea and sushi for the visitors , using the formal English china and the silver tea service which had been donated to the mission , then he went outside to inspect the grounds .\n",
            "10.04\t -- On the basis of a differentiability assumption in function space , it is possible to prove that , for materials having the property that the stress is given by a functional of the history of the deformation gradients , the classical theory of infinitesimal viscoelasticity is valid when the deformation has been infinitesimal for all times in the past .\n",
            "4.88\t She said sharks have no bones and shrimp swam backward .\n",
            "9.62\t T. V. Barker , who developed the classification-angle system , was about to begin the systematic compilation of the index when he died in 1931 .\n",
            "10.32\t He was then in man's hands .\n",
            "32.57\t 4 .\n",
            "15.57\t `` Fifteen minutes , then ! !\n",
            "11.27\t Thus the cocktail party would appear to be the ideal system , but there is one weakness .\n"
          ]
        }
      ],
      "source": [
        "print(\"Training Set Perplexities:\")\n",
        "for sentence in training_sents[:10]:\n",
        "    perplexity = PP(3, tuple(sentence))\n",
        "    sent = ' '.join(sentence[1:-1])\n",
        "    print(f\"{perplexity:.2f}\\t {sent}\")"
      ]
    },
    {
      "cell_type": "code",
      "execution_count": 39,
      "metadata": {
        "colab": {
          "base_uri": "https://localhost:8080/"
        },
        "id": "0WwRq_Ag9ghm",
        "outputId": "f5e22ebf-fee6-4cd8-b6a9-ec1d9cb14907"
      },
      "outputs": [
        {
          "name": "stdout",
          "output_type": "stream",
          "text": [
            "Testing Set Perplexities:\n",
            "176.79\t It is at least as important as the more dramatic attempts to break down barriers of inequality in the South .\n",
            "1306.74\t the car's far windshield panel turned into a silver web with a dark hole in the center .\n",
            "69.22\t `` I was just thinking how things have changed .\n",
            "1071.75\t She smiled , and the teeth gleamed in her beautifully modeled olive face .\n",
            "438.24\t `` There isn't a chance of Myra's letting anything like that happen .\n",
            "174.63\t On the other hand , many a pastor is so absorbed in ministering to the intimate , personal needs of individuals in his congregation that he does little or nothing to lead them into a sense of social responsibility and world mission .\n",
            "923.70\t We live down by the Base commissary .\n",
            "484.32\t For example , the BBB has reported it was receiving four times as many inquiries about quack devices and 10 times as many complaints compared with two years ago .\n",
            "204.82\t As a result , life had become a kind of continuous make-ready .\n",
            "210.44\t Some of the poems express a mood of joy in a newly discovered love ; ;\n"
          ]
        }
      ],
      "source": [
        "print(\"Testing Set Perplexities:\")\n",
        "for sentence in testing_sents[:10]:\n",
        "    perplexity = PP(3, tuple(sentence))\n",
        "    sent = ' '.join(sentence[1:-1])\n",
        "    print(f\"{perplexity:.2f}\\t {sent}\")"
      ]
    },
    {
      "cell_type": "markdown",
      "metadata": {
        "id": "epyUGwvJ9ghm"
      },
      "source": [
        "### Part E\n",
        "\n",
        "Finally, we will find the perplexities of the the testing set with bigrams, trigrams, and quadrigrams.\n",
        "Complete the following template to verify that your results are consistent with the test results."
      ]
    },
    {
      "cell_type": "code",
      "execution_count": 40,
      "metadata": {
        "colab": {
          "base_uri": "https://localhost:8080/"
        },
        "id": "XjZMtm5u9ghm",
        "outputId": "72062fea-2fd0-4594-e38a-5835e9ec70a3",
        "scrolled": false
      },
      "outputs": [
        {
          "name": "stdout",
          "output_type": "stream",
          "text": [
            "Perplexity for Bigrams: 387\n",
            "Perplexity for Trigrams: 496\n",
            "Perplexity for Quadrigrams: 957\n"
          ]
        }
      ],
      "source": [
        "# Find all the probabilities of the sentences in the testing set, multiply them,\n",
        "# and take the $K^{th}$ root, where K is the number of tokens, excluding the <s> tokens.\n",
        "# So, K = (sum of length of sentences) - (# of sentences)\n",
        "\n",
        "# We need to take the product of many small probabilities, so use math.log and math.exp to avoid\n",
        "# underflow.\n",
        "\n",
        "# Print out the perplexity as an integer.\n",
        "\n",
        "import math\n",
        "\n",
        "# your code here\n",
        "\n",
        "def calculate_perplexity(N, testing_sents):\n",
        "        total_log_prob = 0.0\n",
        "        K = sum(len(sentence) - 1 for sentence in testing_sents)\n",
        "\n",
        "        for sentence in testing_sents:\n",
        "            sentence_tokens = tuple(sentence)\n",
        "            p = P_stupid_backoff(N, sentence_tokens)\n",
        "            total_log_prob += math.log(p)\n",
        "\n",
        "\n",
        "        perplexity = math.exp(-total_log_prob / K)\n",
        "        return int(perplexity)\n",
        "\n",
        "# Calculate perplexities for bigrams, trigrams, and quadrigrams\n",
        "print(\"Perplexity for Bigrams:\", calculate_perplexity(2, testing_sents))\n",
        "print(\"Perplexity for Trigrams:\", calculate_perplexity(3, testing_sents))\n",
        "print(\"Perplexity for Quadrigrams:\", calculate_perplexity(4, testing_sents))\n"
      ]
    },
    {
      "cell_type": "markdown",
      "metadata": {
        "id": "mmD9Tfml9ghm"
      },
      "source": [
        "## Problem 3: Generative N-Gram Model\n",
        "\n",
        "\n",
        "Now we will consider how to generate sentences using our N-gram model.\n",
        "\n",
        "\n",
        "The idea is fairly simple.  Suppose we have model using N=4 (quadrigrams -- the algorithm for bigrams and trigrams\n",
        "is analogous):\n",
        "\n",
        "1. To get $w_1$, choose a bigram $(\\text{\"<s>\"}, w_1)$ randomly according the probability distribution stored in\n",
        "\n",
        "$$\\text{Ngram_distribution[2][ $(\\text{\"<s>\"}, w_1)$ ]}.$$\n",
        "\n",
        "2. To get $w_2$, choose a bigram $(\\text{\"<s>\"}, w_1, w_2)$ randomly according the probability distribution calculated as\n",
        "\n",
        "$$\\text{Ngram_distribution[3][ $(\\text{\"<s>\"},w_1,w_2)$ ]}\\ /\\ \\text{Ngram_distribution[2][ $(\\text{\"<s>\"},w_1)$ ]}.$$\n",
        "\n",
        "3. To get $w_3$, choose a trigram $(\\text{\"<s>\"}, w_1, w_2, w_3)$ randomly according the probability distribution calculated as\n",
        "\n",
        "$$\\text{Ngram_distribution[4][ $(\\text{\"<s>\"},w_1,w_2, w_3)$ ]}\\ /\\ \\text{Ngram_distribution[3][ $(\\text{\"<s>\"},w_1,w_2)$ ]}.$$\n",
        "\n",
        "4. Thereafter, for a sequence $(\\text{\"<s>\"}, w_1, w_2, \\ldots, w_{i-2}, w_{i-1})$, to get $w_i$, choose a\n",
        "quadrigram $(w_{i-3}, w_{i-2}, w_{i-1}, w_i)$ randomly according the probability distribution stored in\n",
        "\n",
        "$$\\text{Ngram_distribution[4][ $(w_{i-3}, w_{i-2}, w_{i-1},w_i)$ ]}\\ /\\ \\text{Ngram_distribution[3][ $(w_{i-3}, w_{i-2},w_{i-1})$ ]}.$$\n",
        "\n",
        "5. When we generate the end of sentence marker `<\\s>` we stop.\n",
        "\n",
        "The problem is that this is difficult if we simply use the formulae given above: what we need is\n",
        "a separate probability distribution for each prefix."
      ]
    },
    {
      "cell_type": "markdown",
      "metadata": {
        "id": "jJfjwRno9ghm"
      },
      "source": [
        "### Part A\n",
        "\n",
        "The first step, under the assumption that we are working with N-grams for N = 1,2,3, or 4, is to build a data structure that can sample from the distribution of next tokens\n",
        "given an (N-1)-gram of left context.\n",
        "\n",
        "The best choice here is a nested default dictionary for N-grams for N = 2,3,4, the outer dictionary containing\n",
        "keys consisting of the first N-1 tokens (we'll call this the *prefix*), with the value being an inner dictionary holding a probability distribution for the last token (we'll call this *wn*).\n",
        "\n",
        "For this problem, you need to redo the construction of the list of N-grams and the distributions for\n",
        "each N, using the *entire* set of sentences, not just the testing set you used for the previous problems.\n",
        "You can easily do this by copying and pasting code from above.\n"
      ]
    },
    {
      "cell_type": "code",
      "execution_count": 41,
      "metadata": {
        "id": "QgDQ9N_j9ghm"
      },
      "outputs": [],
      "source": [
        "All_Ngrams = [None]*5    # first slot is empty, then Ngram[1] will hold unigrams,\n",
        "                         # Ngram[2] will hold bigrams, etc.\n",
        "\n",
        "# your code here\n",
        "sentences = training_sents + testing_sents\n",
        "for N in range(1, 5):\n",
        "   All_Ngrams[N] = []\n",
        "\n",
        "for N in range(1, 5):\n",
        "  for sentence in sentences:\n",
        "    ngrams = get_Ngrams_for_sentence(N, sentence)\n",
        "    All_Ngrams[N].extend(ngrams)\n",
        "\n",
        "# now create for N = 1,2,3,4\n",
        "\n",
        "All_Ngram_distribution = [None]*5\n",
        "\n",
        "# your code here\n",
        "def get_Ngram_distribution(N,Ngrams):\n",
        "  ngram_freq = defaultdict(lambda: 0)\n",
        "  ngram_dist = defaultdict(lambda: 0)\n",
        "  for ngram in Ngrams:\n",
        "      ngram_freq[ngram] += 1\n",
        "\n",
        "  for ngram in ngram_freq:\n",
        "      ngram_dist[ngram] = ngram_freq[ngram]/len(Ngrams)\n",
        "\n",
        "  return ngram_dist\n",
        "\n",
        "# now create for N = 1,2,3,4\n",
        "\n",
        "\n",
        "# your code here\n",
        "for N in range(1, 5):\n",
        "  All_Ngram_distribution[N] = get_Ngram_distribution(N, All_Ngrams[N])\n",
        "\n",
        "# Since all setences will start with <s>, its probability should be 1.0\n",
        "\n",
        "All_Ngram_distribution[1][('<s>',)] = 1.0"
      ]
    },
    {
      "cell_type": "markdown",
      "metadata": {
        "id": "DX6b3ZNy9ghm"
      },
      "source": [
        "### Part B\n",
        "\n",
        "Now we must build a data structure to solve the following problem: If we are working in\n",
        "an N-gram model for N = 2, 3, or 4, given a sequence of tokens\n",
        "\n",
        "$$ <s>\\ w_1\\ w_2\\ w_3\\ \\cdots w_i$$\n",
        "\n",
        "generate a sample word $w_{i+1}$ using the distribution of the N-grams of the form\n",
        "\n",
        "$$ w_{i-N+1}\\ \\cdots w_{i-1}\\ w_{i}\\  w_{i+1}.$$\n",
        "\n",
        "In other words, we use the last $N-1$ tokens of the sequence to determine a likely\n",
        "next token, given the distribution of N-grams starting with those $N-1$ tokens.\n",
        "\n",
        "The best way to do this is to build a nested dictionary. Let us call the first $N-1$ tokens\n",
        "in an N-gram the *prefix* and the last token $wn$. Then the outer dictionary\n",
        "is a `defaultdict` whose keys are the prefixes and values are an inner `defaultdict`\n",
        "whose keys are the $wn$ and whose values form a probability distribution for\n",
        "the ways that the prefix can be completed with a token $wn$.\n",
        "\n",
        "To give a simple example, suppose that in our corpus there are only the following bigrams whose\n",
        "first token is 'the':\n",
        "\n",
        "    ('the','boy'),    ('the','baby'),     ('the','baby'),    ('the','man')\n",
        "    \n",
        "Then our outer dictionary would have the prefix\n",
        "\n",
        "    ('the',)\n",
        "    \n",
        "as a key, and the inner dictionary would store the probability that each of 'boy', 'baby', and 'man'\n",
        "would follow 'the', as shown in the next code cell.\n",
        "\n",
        "Note that the prefix is an N-gram (a tuple) and $wn$ is simply a token."
      ]
    },
    {
      "cell_type": "code",
      "execution_count": 42,
      "metadata": {
        "colab": {
          "base_uri": "https://localhost:8080/"
        },
        "id": "zfZIjkz29ghm",
        "outputId": "4c1628b6-e492-42ea-bbdb-226188edb749"
      },
      "outputs": [
        {
          "data": {
            "text/plain": [
              "defaultdict(<function __main__.<lambda>()>,\n",
              "            {('the',): defaultdict(<function __main__.<lambda>()>,\n",
              "                         {'boy': 0.25, 'man': 0.25, 'baby': 0.5})})"
            ]
          },
          "execution_count": 42,
          "metadata": {},
          "output_type": "execute_result"
        }
      ],
      "source": [
        "D = defaultdict(lambda: None)\n",
        "\n",
        "D[('the',)] = defaultdict(lambda: 0)\n",
        "D[('the',)]['boy'] = 0.25\n",
        "D[('the',)]['man'] = 0.25\n",
        "D[('the',)]['baby'] = 0.5\n",
        "\n",
        "D"
      ]
    },
    {
      "cell_type": "markdown",
      "metadata": {
        "id": "95pRLEsN9ghm"
      },
      "source": [
        "Your task is to complete the following template and build a nested default dictionary giving\n",
        "the probability distributions for completions for (N-1)-grams.\n",
        "\n",
        "Hint:  For each N, you must create a `defaultdict` for all N-grams, whose key\n",
        "is the prefix and whose values are an inner `defaultdict`. For each N-gram,\n",
        "you should store the probability of the N-gram prefix+wn under the key $wn$.\n",
        "Then you must normalize these probabilities so that their sum is 1.0.\n",
        "\n",
        "The end result will be that if you look up a prefix (N-1 tokens), you will\n",
        "have a probability distribution of possible $wn$ which can be used for\n",
        "the next token."
      ]
    },
    {
      "cell_type": "code",
      "execution_count": 43,
      "metadata": {
        "id": "18PRcHJC9ghm",
        "scrolled": false
      },
      "outputs": [],
      "source": [
        "# now build a dictionary of lists of completions, with probabilities\n",
        "# For N-gram, key is prefix, of length N-1, which returns a dictionary\n",
        "# with keys that are tokens (the last token wn in the N-gram), with\n",
        "# values the number of times that N-gram (prefix),wn occurs.\n",
        "\n",
        "# N here is the length of the whole N-gram, so the prefix is of length N-1\n",
        "\n",
        "def get_Ngram_dict(N):\n",
        "\n",
        "    ngram_dict = defaultdict(lambda: defaultdict(int))\n",
        "\n",
        "    for ngram in All_Ngrams[N]:\n",
        "        prefix = ngram[:-1]\n",
        "        wn = ngram[-1]\n",
        "        ngram_dict[prefix][wn] += 1\n",
        "\n",
        "    for prefix, word in ngram_dict.items():\n",
        "        total_occurrences = sum(word.values())\n",
        "        for wn in word:\n",
        "            ngram_dict[prefix][wn] /= total_occurrences\n",
        "\n",
        "    return ngram_dict\n",
        "\n",
        "Ngram_nested_dict = [None]*5\n",
        "\n",
        "for n in range(2,5):\n",
        "    Ngram_nested_dict[n] = get_Ngram_dict(n)\n",
        "\n"
      ]
    },
    {
      "cell_type": "code",
      "execution_count": 44,
      "metadata": {
        "colab": {
          "base_uri": "https://localhost:8080/"
        },
        "id": "vFWMSM_39ghn",
        "outputId": "a763b655-50ee-4b83-e8e6-f6158709449a"
      },
      "outputs": [
        {
          "data": {
            "text/plain": [
              "1.0000000000000744"
            ]
          },
          "execution_count": 44,
          "metadata": {},
          "output_type": "execute_result"
        }
      ],
      "source": [
        "# tests: these should sum to (close to) 1.0\n",
        "\n",
        "sum(Ngram_nested_dict[2][('<s>',)].values())"
      ]
    },
    {
      "cell_type": "code",
      "execution_count": 45,
      "metadata": {
        "colab": {
          "base_uri": "https://localhost:8080/"
        },
        "id": "5DL9RgZD9ghn",
        "outputId": "087c4d1e-775c-4e42-a287-e1daba0605da"
      },
      "outputs": [
        {
          "data": {
            "text/plain": [
              "0.9999999999999438"
            ]
          },
          "execution_count": 45,
          "metadata": {},
          "output_type": "execute_result"
        }
      ],
      "source": [
        "sum(Ngram_nested_dict[3][('<s>','The')].values())"
      ]
    },
    {
      "cell_type": "code",
      "execution_count": 46,
      "metadata": {
        "colab": {
          "base_uri": "https://localhost:8080/"
        },
        "id": "bvcubFqM9ghn",
        "outputId": "80fb5efd-181a-4589-a9fd-5d9cad68a31e"
      },
      "outputs": [
        {
          "data": {
            "text/plain": [
              "1.0000000000000007"
            ]
          },
          "execution_count": 46,
          "metadata": {},
          "output_type": "execute_result"
        }
      ],
      "source": [
        "sum(Ngram_nested_dict[4][('<s>','When', 'the')].values())"
      ]
    },
    {
      "cell_type": "markdown",
      "metadata": {
        "id": "lvsevBwY9ghn"
      },
      "source": [
        "### Part C\n",
        "\n",
        "Now that we have a way of sampling the next likely word, we will write\n",
        "a function which will predict the next word. You must sample from the\n",
        "probability distribution given a prefix, to choose a likely next word.\n",
        "\n",
        "Hint:  read about `numpy.random.choice`, in particular how you can set the parameter `p`\n",
        "to determine the probability of selecting a given key from the dictionary."
      ]
    },
    {
      "cell_type": "code",
      "execution_count": 47,
      "metadata": {
        "id": "2wMUbW4U9ghn",
        "scrolled": false
      },
      "outputs": [],
      "source": [
        "# given a prefix, randomly choose next token using the appropriate probability distribution\n",
        "\n",
        "#  len(prefix) must be 1, 2, 3, or 4\n",
        "\n",
        "def next_word(prefix):\n",
        "\n",
        "    N = len(prefix) + 1\n",
        "\n",
        "    ngram_dict = Ngram_nested_dict[N]\n",
        "\n",
        "    word = list(ngram_dict[prefix].keys())\n",
        "    probabilities = list(ngram_dict[prefix].values())\n",
        "\n",
        "    predicted_word = np.random.choice(word, p=probabilities)\n",
        "    return predicted_word\n"
      ]
    },
    {
      "cell_type": "code",
      "execution_count": 48,
      "metadata": {
        "colab": {
          "base_uri": "https://localhost:8080/",
          "height": 35
        },
        "id": "-VsmWm6O9ghn",
        "outputId": "42d86ba9-777e-488a-d1d3-6f307966aaa0"
      },
      "outputs": [
        {
          "data": {
            "application/vnd.google.colaboratory.intrinsic+json": {
              "type": "string"
            },
            "text/plain": [
              "'You'"
            ]
          },
          "execution_count": 48,
          "metadata": {},
          "output_type": "execute_result"
        }
      ],
      "source": [
        "# tests\n",
        "\n",
        "next_word(('<s>',))"
      ]
    },
    {
      "cell_type": "code",
      "execution_count": 49,
      "metadata": {
        "colab": {
          "base_uri": "https://localhost:8080/",
          "height": 35
        },
        "id": "S72VcILM9ghn",
        "outputId": "1139f377-10ed-4fa3-9a9c-8c99ca70dda2"
      },
      "outputs": [
        {
          "data": {
            "application/vnd.google.colaboratory.intrinsic+json": {
              "type": "string"
            },
            "text/plain": [
              "'unhealthy'"
            ]
          },
          "execution_count": 49,
          "metadata": {},
          "output_type": "execute_result"
        }
      ],
      "source": [
        "next_word(('<s>','The'))"
      ]
    },
    {
      "cell_type": "code",
      "execution_count": 50,
      "metadata": {
        "colab": {
          "base_uri": "https://localhost:8080/",
          "height": 35
        },
        "id": "gcNJQAdR9ghn",
        "outputId": "cd5a0e4f-ef59-4805-8949-a53388a5df6d"
      },
      "outputs": [
        {
          "data": {
            "application/vnd.google.colaboratory.intrinsic+json": {
              "type": "string"
            },
            "text/plain": [
              "'moved'"
            ]
          },
          "execution_count": 50,
          "metadata": {},
          "output_type": "execute_result"
        }
      ],
      "source": [
        "next_word(('<s>','The','man'))"
      ]
    },
    {
      "cell_type": "markdown",
      "metadata": {
        "id": "wj_EVVy59ghn"
      },
      "source": [
        "### Part D\n",
        "\n",
        "Complete the following template to generate a random sentence by starting with\n",
        "the unigram `('<s>',)` and extending it by sampling until you generate the token `</s>`."
      ]
    },
    {
      "cell_type": "code",
      "execution_count": 51,
      "metadata": {
        "id": "kMNyKO8S9ghn",
        "scrolled": true
      },
      "outputs": [],
      "source": [
        "# N is the parameter in N-gram\n",
        "\n",
        "def generate_sentence(N):\n",
        "\n",
        "    sentence = ['<s>']  # Initialize the sentence with the '<s>' token\n",
        "\n",
        "    while True:\n",
        "        prefix = tuple(sentence[-(N - 1):])  # Get the current prefix based on N\n",
        "        next_token = next_word(prefix)  # Sample the next token\n",
        "\n",
        "        if next_token == '</s>':\n",
        "            sentence.append(next_token)\n",
        "            break  # Stop if we reach the end of the sentence\n",
        "        else:\n",
        "            sentence.append(next_token)  # Append the next token to the sentence\n",
        "\n",
        "    return tuple(sentence)\n"
      ]
    },
    {
      "cell_type": "code",
      "execution_count": 128,
      "metadata": {
        "colab": {
          "base_uri": "https://localhost:8080/"
        },
        "id": "85LTuEvC9ghn",
        "outputId": "3a9e6819-2cb6-4a5a-826e-a7bbd1656367"
      },
      "outputs": [
        {
          "name": "stdout",
          "output_type": "stream",
          "text": [
            "133.14 It just been older generation to Thomas' injured his desire I was achieved ; \n",
            "\n",
            "5.72 From next New Year's wearing a neat , mean and bitter . \n",
            "\n",
            "3.38 The essential difference between the two things , or any part of the assessors are of significance to statewide planning . \n",
            "\n"
          ]
        }
      ],
      "source": [
        "# tests  -- run this cell many times!\n",
        "w1 = generate_sentence(2)\n",
        "print(np.around(PP(2,w1),2), ' '.join(w1[1:-1]),'\\n')\n",
        "\n",
        "w2 = generate_sentence(3)\n",
        "\n",
        "print(np.around(PP(3,w2),2), ' '.join(w2[1:-1]),'\\n')\n",
        "\n",
        "w3 = generate_sentence(4)\n",
        "\n",
        "print(np.around(PP(4,w3),2), ' '.join(w3[1:-1]),'\\n')\n"
      ]
    },
    {
      "cell_type": "markdown",
      "metadata": {
        "id": "aJO59JVG9gho"
      },
      "source": [
        "### Part E\n",
        "\n",
        "Experiment with generating sentences for various values of N = 2, 3, 4. How do the perplexities compare?  Do you see a difference\n",
        "in the quality of the sentences? How well does it do with punctuation and quotes?\n",
        "\n",
        "The typical view is that for larger values of N,\n",
        "the model is just \"memorizing\" the corpus. Do you think this is true? (You might look through\n",
        "the corpus to see what relationship your generated sentences, say for N = 4, have with\n",
        "the sentences in the corpus."
      ]
    },
    {
      "cell_type": "markdown",
      "metadata": {
        "id": "t8vb2Pm09gho"
      },
      "source": [
        "1. How do the perplexities compare?\n",
        "\n",
        "For lower value of 'N' in the N-grams it has higher perplexities and for higher 'N' we get lower perplexities. For N = 3 & 4 we get extremely low perplexities indicating that the model is less perplexed and possibly copying words from the corpus.\n",
        "\n",
        "\n",
        "\n",
        "2.  Do you see a difference in the quality of the sentences?\n",
        "\n",
        "Yes, for bigrams it looks like the model is printing gibberish, mostly generating without context at all, whereas for trigrams it gets better and for quardigrams it mostly gets words from the corpus itself, so the sentences formed for quadrigrams makes most sense gramatically.\n",
        "\n",
        "3. How well does it do with punctuation and quotes?\n",
        "\n",
        "It seems to be inconsistent with punctuations, with random punctuations being doubled sequentially like '--' , random blank quotes, sentences ending wit ';;'.\n",
        "\n",
        "4.The typical view is that for larger values of N, the model is just \"memorizing\" the corpus. Do you think this is true?\n",
        "\n",
        " For quadrigrams while it does memorize words from the corpus it does also generalise to some extent and so the model is not completely cheating from the corpus. On multiple attempts for different generated sentences, the block of code below has never returned true showing that the model has not directly memorised an entire sentence from the corpus."
      ]
    },
    {
      "cell_type": "code",
      "execution_count": 129,
      "metadata": {
        "id": "cleIEflhdDlR"
      },
      "outputs": [],
      "source": [
        "for sentence in sentences[1:10]:\n",
        "  if list(w3) == sentence:\n",
        "    print(True)\n",
        "    break\n",
        "\n"
      ]
    }
  ],
  "metadata": {
    "colab": {
      "provenance": []
    },
    "kernelspec": {
      "display_name": "Python 3 (ipykernel)",
      "language": "python",
      "name": "python3"
    },
    "language_info": {
      "codemirror_mode": {
        "name": "ipython",
        "version": 3
      },
      "file_extension": ".py",
      "mimetype": "text/x-python",
      "name": "python",
      "nbconvert_exporter": "python",
      "pygments_lexer": "ipython3",
      "version": "3.10.9"
    }
  },
  "nbformat": 4,
  "nbformat_minor": 0
}
